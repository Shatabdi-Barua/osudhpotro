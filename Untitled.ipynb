{
 "cells": [
  {
   "cell_type": "code",
   "execution_count": 14,
   "id": "01dfb86f",
   "metadata": {},
   "outputs": [
    {
     "name": "stdout",
     "output_type": "stream",
     "text": [
      "[[0 1 2]\n",
      " [0 2 0]\n",
      " [0 1 2]\n",
      " [1 2 0]\n",
      " [2 1 2]\n",
      " [3 2 0]]\n"
     ]
    },
    {
     "ename": "TypeError",
     "evalue": "Value must be a list, tuple, range or generator, or a dict. Supplied value is <class 'numpy.ndarray'>",
     "output_type": "error",
     "traceback": [
      "\u001b[0;31m---------------------------------------------------------------------------\u001b[0m",
      "\u001b[0;31mTypeError\u001b[0m                                 Traceback (most recent call last)",
      "Input \u001b[0;32mIn [14]\u001b[0m, in \u001b[0;36m<cell line: 14>\u001b[0;34m()\u001b[0m\n\u001b[1;32m     13\u001b[0m \u001b[38;5;66;03m# print(all_data)\u001b[39;00m\n\u001b[1;32m     14\u001b[0m \u001b[38;5;28;01mfor\u001b[39;00m i \u001b[38;5;129;01min\u001b[39;00m tup[\u001b[38;5;124m'\u001b[39m\u001b[38;5;124mh\u001b[39m\u001b[38;5;124m'\u001b[39m]:  \n\u001b[0;32m---> 15\u001b[0m     \u001b[43msheet\u001b[49m\u001b[38;5;241;43m.\u001b[39;49m\u001b[43mappend\u001b[49m\u001b[43m(\u001b[49m\u001b[43mi\u001b[49m\u001b[43m)\u001b[49m  \n\u001b[1;32m     16\u001b[0m workbook\u001b[38;5;241m.\u001b[39msave(\u001b[38;5;124m'\u001b[39m\u001b[38;5;124mtest.xlsx\u001b[39m\u001b[38;5;124m'\u001b[39m)\n",
      "File \u001b[0;32m/media/trenza/New Volume/Shatabdi/osudhpotro/osudhpotro_env/lib/python3.8/site-packages/openpyxl/worksheet/worksheet.py:676\u001b[0m, in \u001b[0;36mWorksheet.append\u001b[0;34m(self, iterable)\u001b[0m\n\u001b[1;32m    673\u001b[0m         \u001b[38;5;28mself\u001b[39m\u001b[38;5;241m.\u001b[39m_cells[(row_idx, col_idx)] \u001b[38;5;241m=\u001b[39m cell\n\u001b[1;32m    675\u001b[0m \u001b[38;5;28;01melse\u001b[39;00m:\n\u001b[0;32m--> 676\u001b[0m     \u001b[38;5;28;43mself\u001b[39;49m\u001b[38;5;241;43m.\u001b[39;49m\u001b[43m_invalid_row\u001b[49m\u001b[43m(\u001b[49m\u001b[43miterable\u001b[49m\u001b[43m)\u001b[49m\n\u001b[1;32m    678\u001b[0m \u001b[38;5;28mself\u001b[39m\u001b[38;5;241m.\u001b[39m_current_row \u001b[38;5;241m=\u001b[39m row_idx\n",
      "File \u001b[0;32m/media/trenza/New Volume/Shatabdi/osudhpotro/osudhpotro_env/lib/python3.8/site-packages/openpyxl/worksheet/worksheet.py:812\u001b[0m, in \u001b[0;36mWorksheet._invalid_row\u001b[0;34m(self, iterable)\u001b[0m\n\u001b[1;32m    811\u001b[0m \u001b[38;5;28;01mdef\u001b[39;00m \u001b[38;5;21m_invalid_row\u001b[39m(\u001b[38;5;28mself\u001b[39m, iterable):\n\u001b[0;32m--> 812\u001b[0m     \u001b[38;5;28;01mraise\u001b[39;00m \u001b[38;5;167;01mTypeError\u001b[39;00m(\u001b[38;5;124m'\u001b[39m\u001b[38;5;124mValue must be a list, tuple, range or generator, or a dict. Supplied value is \u001b[39m\u001b[38;5;132;01m{0}\u001b[39;00m\u001b[38;5;124m'\u001b[39m\u001b[38;5;241m.\u001b[39mformat(\n\u001b[1;32m    813\u001b[0m         \u001b[38;5;28mtype\u001b[39m(iterable))\n\u001b[1;32m    814\u001b[0m                     )\n",
      "\u001b[0;31mTypeError\u001b[0m: Value must be a list, tuple, range or generator, or a dict. Supplied value is <class 'numpy.ndarray'>"
     ]
    }
   ],
   "source": [
    "tup = dict();\n",
    "A = [[0, 1, 2], [0, 2, 0]]\n",
    "X = [[0, 1, 2], [1, 2, 0], [2, 1, 2], [3, 2, 0]]\n",
    "import numpy as np\n",
    "A = np.vstack((A, X))\n",
    "tup['h'] = A\n",
    "print(A)\n",
    "from openpyxl import Workbook\n",
    "filename = 'osudhpotro.xlxs'\n",
    "workbook = Workbook()\n",
    "sheet = workbook.active\n",
    "\n",
    "# print(all_data)\n",
    "for i in tup['h']:  \n",
    "    sheet.append(i)  \n",
    "workbook.save('test.xlsx')  "
   ]
  }
 ],
 "metadata": {
  "kernelspec": {
   "display_name": "Python 3 (ipykernel)",
   "language": "python",
   "name": "python3"
  },
  "language_info": {
   "codemirror_mode": {
    "name": "ipython",
    "version": 3
   },
   "file_extension": ".py",
   "mimetype": "text/x-python",
   "name": "python",
   "nbconvert_exporter": "python",
   "pygments_lexer": "ipython3",
   "version": "3.8.10"
  }
 },
 "nbformat": 4,
 "nbformat_minor": 5
}
